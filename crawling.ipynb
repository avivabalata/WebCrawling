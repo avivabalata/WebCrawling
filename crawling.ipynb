{
 "cells": [
  {
   "cell_type": "markdown",
   "metadata": {},
   "source": [
    "Quastion 1"
   ]
  },
  {
   "cell_type": "heading",
   "metadata": {},
   "level": 2,
   "source": [
    "Preparation"
   ]
  },
  {
   "cell_type": "code",
   "execution_count": 4,
   "metadata": {
    "collapsed": true
   },
   "outputs": [],
   "source": [
    "from bs4 import BeautifulSoup\n",
    "\n",
    "# import the library used to query a website\n",
    "from urllib.request import urlopen\n",
    "\n",
    "# specify the url\n",
    "wiki = \"https://en.wikipedia.org/wiki/Gal_Gadot\"\n",
    "\n",
    "# Query the website and return the html to the variable 'page'\n",
    "page = urlopen(wiki)\n",
    "\n",
    "# Parse the html in the 'page' variable, and store it in Beautiful Soup format\n",
    "soup = BeautifulSoup(page)\n",
    "\n",
    "films_table = soup.find(\"table\", class_=\"wikitable sortable\")\n",
    "\n",
    "# print(films_table.prettify())"
   ]
  },
  {
   "cell_type": "heading",
   "metadata": {},
   "level": 2,
   "source": [
    "The html"
   ]
  },
  {
   "cell_type": "code",
   "execution_count": 5,
   "metadata": {},
   "outputs": [
    {
     "name": "stdout",
     "output_type": "stream",
     "text": [
      "['/wiki/Fast_%26_Furious_(2009_film)', '/wiki/Date_Night', '/wiki/Knight_and_Day', '/wiki/Fast_Five', '/wiki/Fast_%26_Furious_6', '/wiki/Kicking_Out_Shoshana', '/wiki/Furious_7', '/wiki/Triple_9', '/wiki/Batman_v_Superman:_Dawn_of_Justice', '/wiki/Criminal_(2016_film)', '/wiki/Keeping_Up_with_the_Joneses_(film)', '/wiki/Wonder_Woman_(2017_film)', '/wiki/Justice_League_(film)', '/wiki/Ralph_Breaks_the_Internet', '/wiki/Wonder_Woman_1984']\n"
     ]
    }
   ],
   "source": [
    "#Generate lists\n",
    "#Generate lists\n",
    "moviesUrls = []\n",
    "A=[]\n",
    "B=[]\n",
    "C=[]\n",
    "D=[]\n",
    "rowSpanYear = 0\n",
    "rowSpanYearValue = \"\"\n",
    "yearBoolean = 0\n",
    "rowSpanRole = 0\n",
    "rowSpanRoleValue = \"\"\n",
    "roleBoolean = 0\n",
    "\n",
    "for row in films_table.tbody.findAll(\"tr\"):\n",
    "    cells = row.findAll('td')\n",
    "    if len(cells) == 5:\n",
    "        \n",
    "        ##############\n",
    "        \n",
    "        if cells[0].has_attr('rowspan'):\n",
    "            rowSpanYear = int(cells[0].attrs['rowspan']) - 1\n",
    "            rowSpanYearValue = cells[0].find(text=True)\n",
    "            moviesUrls.append(cells[1].find('i').find('a').attrs['href'])\n",
    "            A.append(cells[0].find(text=True))\n",
    "            B.append(cells[1].find(text=True))\n",
    "            C.append(cells[2].find(text=True))\n",
    "            D.append(cells[3].find(text=True))\n",
    "        else: \n",
    "            if cells[2].has_attr('rowspan'):\n",
    "                rowSpanRole = int(cells[2].attrs['rowspan']) - 1\n",
    "                rowSpanRoleValue = cells[2].find(text=True)\n",
    "                moviesUrls.append(cells[1].find('i').find('a').attrs['href'])\n",
    "                A.append(cells[0].find(text=True))\n",
    "                B.append(cells[1].find(text=True))\n",
    "                C.append(cells[2].find(text=True))\n",
    "                D.append(cells[3].find(text=True))\n",
    "            else:\n",
    "                moviesUrls.append(cells[1].find('i').find('a').attrs['href'])\n",
    "                A.append(cells[0].find(text=True))\n",
    "                B.append(cells[1].find(text=True))\n",
    "                C.append(cells[2].find(text=True))\n",
    "                D.append(cells[3].find(text=True))\n",
    "                \n",
    "            \n",
    "########################################\n",
    "    if len(cells) == 4:\n",
    "        \n",
    "        if rowSpanYear > 0 : \n",
    "            A.append(rowSpanYearValue)\n",
    "            moviesUrls.append(cells[0].find('i').find('a').attrs['href'])\n",
    "            B.append(cells[0].find(text=True))\n",
    "            C.append(cells[1].find(text=True))\n",
    "            D.append(cells[2].find(text=True))\n",
    "            rowSpanYear = rowSpanYear - 1\n",
    "\n",
    "        else:\n",
    "            if rowSpanRole > 0: \n",
    "                C.append(rowSpanRoleValue)\n",
    "                moviesUrls.append(cells[1].find('i').find('a').attrs['href'])\n",
    "                A.append(cells[0].find(text=True))\n",
    "                B.append(cells[1].find(text=True))\n",
    "                D.append(cells[2].find(text=True))\n",
    "                rowSpanRole = rowSpanRole - 1\n",
    "print(moviesUrls)"
   ]
  },
  {
   "cell_type": "code",
   "execution_count": 6,
   "metadata": {
    "collapsed": true
   },
   "outputs": [
    {
     "data": {
      "text/html": [
       "<div>\n",
       "<style scoped>\n",
       "    .dataframe tbody tr th:only-of-type {\n",
       "        vertical-align: middle;\n",
       "    }\n",
       "\n",
       "    .dataframe tbody tr th {\n",
       "        vertical-align: top;\n",
       "    }\n",
       "\n",
       "    .dataframe thead th {\n",
       "        text-align: right;\n",
       "    }\n",
       "</style>\n",
       "<table border=\"1\" class=\"dataframe\">\n",
       "  <thead>\n",
       "    <tr style=\"text-align: right;\">\n",
       "      <th></th>\n",
       "      <th>Year</th>\n",
       "      <th>Title</th>\n",
       "      <th>Role</th>\n",
       "      <th>Director</th>\n",
       "    </tr>\n",
       "  </thead>\n",
       "  <tbody>\n",
       "    <tr>\n",
       "      <th>0</th>\n",
       "      <td>2009</td>\n",
       "      <td>Fast &amp; Furious</td>\n",
       "      <td>Gisele Yashar</td>\n",
       "      <td>Justin Lin</td>\n",
       "    </tr>\n",
       "    <tr>\n",
       "      <th>1</th>\n",
       "      <td>2010</td>\n",
       "      <td>Date Night</td>\n",
       "      <td>Natanya</td>\n",
       "      <td>Shawn Levy</td>\n",
       "    </tr>\n",
       "    <tr>\n",
       "      <th>2</th>\n",
       "      <td>2010</td>\n",
       "      <td>Knight and Day</td>\n",
       "      <td>Naomi</td>\n",
       "      <td>James Mangold</td>\n",
       "    </tr>\n",
       "    <tr>\n",
       "      <th>3</th>\n",
       "      <td>2011</td>\n",
       "      <td>Fast Five</td>\n",
       "      <td>Gisele Yashar</td>\n",
       "      <td>Justin Lin</td>\n",
       "    </tr>\n",
       "    <tr>\n",
       "      <th>4</th>\n",
       "      <td>2013</td>\n",
       "      <td>Fast &amp; Furious 6</td>\n",
       "      <td>Gisele Yashar</td>\n",
       "      <td>Justin Lin</td>\n",
       "    </tr>\n",
       "    <tr>\n",
       "      <th>5</th>\n",
       "      <td>2014</td>\n",
       "      <td>Kicking Out Shoshana</td>\n",
       "      <td>Mirit Ben Harush</td>\n",
       "      <td>Shay Kanot</td>\n",
       "    </tr>\n",
       "    <tr>\n",
       "      <th>6</th>\n",
       "      <td>2015</td>\n",
       "      <td>Furious 7</td>\n",
       "      <td>Gisele Yashar</td>\n",
       "      <td>James Wan</td>\n",
       "    </tr>\n",
       "    <tr>\n",
       "      <th>7</th>\n",
       "      <td>2016</td>\n",
       "      <td>Triple 9</td>\n",
       "      <td>Elena Vlaslov</td>\n",
       "      <td>John Hillcoat</td>\n",
       "    </tr>\n",
       "    <tr>\n",
       "      <th>8</th>\n",
       "      <td>2016</td>\n",
       "      <td>Batman v Superman: Dawn of Justice</td>\n",
       "      <td>Diana Prince</td>\n",
       "      <td>Zack Snyder</td>\n",
       "    </tr>\n",
       "    <tr>\n",
       "      <th>9</th>\n",
       "      <td>2016</td>\n",
       "      <td>Criminal</td>\n",
       "      <td>Jill Pope</td>\n",
       "      <td>Ariel Vromen</td>\n",
       "    </tr>\n",
       "    <tr>\n",
       "      <th>10</th>\n",
       "      <td>2016</td>\n",
       "      <td>Keeping Up with the Joneses</td>\n",
       "      <td>Natalie Jones</td>\n",
       "      <td>Greg Mottola</td>\n",
       "    </tr>\n",
       "    <tr>\n",
       "      <th>11</th>\n",
       "      <td>2017</td>\n",
       "      <td>Wonder Woman</td>\n",
       "      <td>Diana Prince / Wonder Woman</td>\n",
       "      <td>Patty Jenkins</td>\n",
       "    </tr>\n",
       "    <tr>\n",
       "      <th>12</th>\n",
       "      <td>2017</td>\n",
       "      <td>Justice League</td>\n",
       "      <td>Diana Prince / Wonder Woman</td>\n",
       "      <td>Zack Snyder</td>\n",
       "    </tr>\n",
       "    <tr>\n",
       "      <th>13</th>\n",
       "      <td>2018</td>\n",
       "      <td>Ralph Breaks the Internet</td>\n",
       "      <td>Shank (voice)</td>\n",
       "      <td>Rich Moore</td>\n",
       "    </tr>\n",
       "    <tr>\n",
       "      <th>14</th>\n",
       "      <td>2020</td>\n",
       "      <td>Wonder Woman 1984</td>\n",
       "      <td>Diana Prince / Wonder Woman</td>\n",
       "      <td>Patty Jenkins</td>\n",
       "    </tr>\n",
       "  </tbody>\n",
       "</table>\n",
       "</div>"
      ],
      "text/plain": [
       "<div>\n",
       "<style scoped>\n",
       "    .dataframe tbody tr th:only-of-type {\n",
       "        vertical-align: middle;\n",
       "    }\n",
       "\n",
       "    .dataframe tbody tr th {\n",
       "        vertical-align: top;\n",
       "    }\n",
       "\n",
       "    .dataframe thead th {\n",
       "        text-align: right;\n",
       "    }\n",
       "</style>\n",
       "<table border=\"1\" class=\"dataframe\">\n",
       "  <thead>\n",
       "    <tr style=\"text-align: right;\">\n",
       "      <th></th>\n",
       "      <th>Year</th>\n",
       "      <th>Title</th>\n",
       "      <th>Role</th>\n",
       "      <th>Director</th>\n",
       "    </tr>\n",
       "  </thead>\n",
       "  <tbody>\n",
       "    <tr>\n",
       "      <th>0</th>\n",
       "      <td>2009</td>\n",
       "      <td>Fast &amp; Furious</td>\n",
       "      <td>Gisele Yashar</td>\n",
       "      <td>Justin Lin</td>\n",
       "    </tr>\n",
       "    <tr>\n",
       "      <th>1</th>\n",
       "      <td>2010</td>\n",
       "      <td>Date Night</td>\n",
       "      <td>Natanya</td>\n",
       "      <td>Shawn Levy</td>\n",
       "    </tr>\n",
       "    <tr>\n",
       "      <th>2</th>\n",
       "      <td>2010</td>\n",
       "      <td>Knight and Day</td>\n",
       "      <td>Naomi</td>\n",
       "      <td>James Mangold</td>\n",
       "    </tr>\n",
       "    <tr>\n",
       "      <th>3</th>\n",
       "      <td>2011</td>\n",
       "      <td>Fast Five</td>\n",
       "      <td>Gisele Yashar</td>\n",
       "      <td>Justin Lin</td>\n",
       "    </tr>\n",
       "    <tr>\n",
       "      <th>4</th>\n",
       "      <td>2013</td>\n",
       "      <td>Fast &amp; Furious 6</td>\n",
       "      <td>Gisele Yashar</td>\n",
       "      <td>Justin Lin</td>\n",
       "    </tr>\n",
       "    <tr>\n",
       "      <th>5</th>\n",
       "      <td>2014</td>\n",
       "      <td>Kicking Out Shoshana</td>\n",
       "      <td>Mirit Ben Harush</td>\n",
       "      <td>Shay Kanot</td>\n",
       "    </tr>\n",
       "    <tr>\n",
       "      <th>6</th>\n",
       "      <td>2015</td>\n",
       "      <td>Furious 7</td>\n",
       "      <td>Gisele Yashar</td>\n",
       "      <td>James Wan</td>\n",
       "    </tr>\n",
       "    <tr>\n",
       "      <th>7</th>\n",
       "      <td>2016</td>\n",
       "      <td>Triple 9</td>\n",
       "      <td>Elena Vlaslov</td>\n",
       "      <td>John Hillcoat</td>\n",
       "    </tr>\n",
       "    <tr>\n",
       "      <th>8</th>\n",
       "      <td>2016</td>\n",
       "      <td>Batman v Superman: Dawn of Justice</td>\n",
       "      <td>Diana Prince</td>\n",
       "      <td>Zack Snyder</td>\n",
       "    </tr>\n",
       "    <tr>\n",
       "      <th>9</th>\n",
       "      <td>2016</td>\n",
       "      <td>Criminal</td>\n",
       "      <td>Jill Pope</td>\n",
       "      <td>Ariel Vromen</td>\n",
       "    </tr>\n",
       "    <tr>\n",
       "      <th>10</th>\n",
       "      <td>2016</td>\n",
       "      <td>Keeping Up with the Joneses</td>\n",
       "      <td>Natalie Jones</td>\n",
       "      <td>Greg Mottola</td>\n",
       "    </tr>\n",
       "    <tr>\n",
       "      <th>11</th>\n",
       "      <td>2017</td>\n",
       "      <td>Wonder Woman</td>\n",
       "      <td>Diana Prince / Wonder Woman</td>\n",
       "      <td>Patty Jenkins</td>\n",
       "    </tr>\n",
       "    <tr>\n",
       "      <th>12</th>\n",
       "      <td>2017</td>\n",
       "      <td>Justice League</td>\n",
       "      <td>Diana Prince / Wonder Woman</td>\n",
       "      <td>Zack Snyder</td>\n",
       "    </tr>\n",
       "    <tr>\n",
       "      <th>13</th>\n",
       "      <td>2018</td>\n",
       "      <td>Ralph Breaks the Internet</td>\n",
       "      <td>Shank (voice)</td>\n",
       "      <td>Rich Moore</td>\n",
       "    </tr>\n",
       "    <tr>\n",
       "      <th>14</th>\n",
       "      <td>2020</td>\n",
       "      <td>Wonder Woman 1984</td>\n",
       "      <td>Diana Prince / Wonder Woman</td>\n",
       "      <td>Patty Jenkins</td>\n",
       "    </tr>\n",
       "  </tbody>\n",
       "</table>\n",
       "</div>"
      ]
     },
     "execution_count": 6,
     "metadata": {},
     "output_type": "execute_result"
    }
   ],
   "source": [
    "#import pandas to convert list to data frame\n",
    "import pandas as pd\n",
    "df=pd.DataFrame()\n",
    "df['Year']=A\n",
    "df['Title']=B\n",
    "df['Role']=C\n",
    "df['Director']=D\n",
    "df"
   ]
  },
  {
   "cell_type": "markdown",
   "metadata": {},
   "source": [
    "Quastion 2"
   ]
  },
  {
   "cell_type": "code",
   "execution_count": 13,
   "metadata": {
    "collapsed": false
   },
   "outputs": [
    {
     "name": "stdout",
     "output_type": "stream",
     "text": [
      "https://en.wikipedia.org/wiki/Fast_%26_Furious_(2009_film)\n"
     ]
    },
    {
     "name": "stdout",
     "output_type": "stream",
     "text": [
      "https://en.wikipedia.org/wiki/Date_Night\n"
     ]
    },
    {
     "name": "stdout",
     "output_type": "stream",
     "text": [
      "https://en.wikipedia.org/wiki/Knight_and_Day\n"
     ]
    },
    {
     "name": "stdout",
     "output_type": "stream",
     "text": [
      "https://en.wikipedia.org/wiki/Fast_Five\n"
     ]
    },
    {
     "name": "stdout",
     "output_type": "stream",
     "text": [
      "https://en.wikipedia.org/wiki/Fast_%26_Furious_6\n"
     ]
    },
    {
     "name": "stdout",
     "output_type": "stream",
     "text": [
      "https://en.wikipedia.org/wiki/Kicking_Out_Shoshana\n"
     ]
    },
    {
     "name": "stdout",
     "output_type": "stream",
     "text": [
      "https://en.wikipedia.org/wiki/Furious_7\n"
     ]
    },
    {
     "name": "stdout",
     "output_type": "stream",
     "text": [
      "https://en.wikipedia.org/wiki/Triple_9\n"
     ]
    },
    {
     "name": "stdout",
     "output_type": "stream",
     "text": [
      "https://en.wikipedia.org/wiki/Batman_v_Superman:_Dawn_of_Justice\n"
     ]
    },
    {
     "name": "stdout",
     "output_type": "stream",
     "text": [
      "https://en.wikipedia.org/wiki/Criminal_(2016_film)\n"
     ]
    },
    {
     "name": "stdout",
     "output_type": "stream",
     "text": [
      "https://en.wikipedia.org/wiki/Keeping_Up_with_the_Joneses_(film)\n"
     ]
    },
    {
     "name": "stdout",
     "output_type": "stream",
     "text": [
      "https://en.wikipedia.org/wiki/Wonder_Woman_(2017_film)\n"
     ]
    },
    {
     "name": "stdout",
     "output_type": "stream",
     "text": [
      "https://en.wikipedia.org/wiki/Justice_League_(film)\n"
     ]
    },
    {
     "name": "stdout",
     "output_type": "stream",
     "text": [
      "https://en.wikipedia.org/wiki/Ralph_Breaks_the_Internet\n"
     ]
    },
    {
     "name": "stdout",
     "output_type": "stream",
     "text": [
      "https://en.wikipedia.org/wiki/Wonder_Woman_1984\n"
     ]
    }
   ],
   "source": [
    "A=[]\n",
    "B=[]\n",
    "C=[]\n",
    "D=[]\n",
    "\n",
    "for movie in moviesUrls:    \n",
    "    actors = []\n",
    "    print('https://en.wikipedia.org' + movie)\n",
    "    mo = urlopen('https://en.wikipedia.org' + movie)\n",
    "    soup = BeautifulSoup(mo)\n",
    "    # print(soup.prettify())\n",
    "    castTitle = soup.find(\"h2\", id=\"Cast\")\n",
    "    voiceCastTitle = soup.find(\"h2\", id=\"Voice_cast\")\n",
    "    if castTitle is not None:\n",
    "        actorList = castTitle.findNext(\"ul\")\n",
    "        for actor in actorList.findAll('li'):\n",
    "            actors.append(actor.find('a').attrs['href'])\n",
    "        print(actorList.prettify())\n",
    "    if voiceCastTitle is not None:\n",
    "        print(voiceCastTitle.prettify())"
   ]
  },
  {
   "cell_type": "code",
   "execution_count": null,
   "metadata": {},
   "outputs": [],
   "source": [
    "\n"
   ]
  }
 ],
 "metadata": {
  "kernelspec": {
   "display_name": "Python 2",
   "language": "python",
   "name": "python2"
  },
  "language_info": {
   "codemirror_mode": {
    "name": "ipython",
    "version": 2
   },
   "file_extension": ".py",
   "mimetype": "text/x-python",
   "name": "python",
   "nbconvert_exporter": "python",
   "pygments_lexer": "ipython2",
   "version": "2.7.6"
  }
 },
 "nbformat": 4,
 "nbformat_minor": 0
}
